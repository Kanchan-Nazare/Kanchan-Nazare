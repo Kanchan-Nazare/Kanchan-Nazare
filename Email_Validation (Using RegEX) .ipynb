{
 "cells": [
  {
   "cell_type": "code",
   "execution_count": null,
   "id": "60d653e7",
   "metadata": {},
   "outputs": [],
   "source": [
    "Condition should be follow:\n",
    "    1. a to z\n",
    "    2. 0 to 9\n",
    "    3. \".\" & \"_\" ----> only 1 time in email\n",
    "    4. \"@\" should be 1 time\n",
    "    4. \".\" (dot) should be at either second or third position "
   ]
  },
  {
   "cell_type": "code",
   "execution_count": 1,
   "id": "24712476",
   "metadata": {},
   "outputs": [
    {
     "name": "stdout",
     "output_type": "stream",
     "text": [
      "Enter your Email: lksj@gmail.com\n",
      "Right Email\n"
     ]
    }
   ],
   "source": [
    "import re # import Regex module\n",
    "email_condition=\"^[a-z]+[\\._]?[a-z 0-9]+[@]\\w+[.]\\w{2,3}$\"\n",
    "# start with--> \"^\"\n",
    "# range----> \"[  ]\"\n",
    "# To join two ----> \" + \"\n",
    "# \\._? -----> for searching .  & _ in string should found only of 1 time\n",
    "# \\w ----> to search special character in string\n",
    "# {2,3}$ -----> to seach special character in range\n",
    "\n",
    "user_email=input(\"Enter your Email: \")\n",
    "if re.search(email_condition,user_email):\n",
    "    print(\"Right Email\")\n",
    "else:\n",
    "    print(\"Wrong Email\")"
   ]
  },
  {
   "cell_type": "code",
   "execution_count": 6,
   "id": "b453cdeb",
   "metadata": {},
   "outputs": [
    {
     "name": "stdout",
     "output_type": "stream",
     "text": [
      "Enter your Email: kanchan..nazare@gmail.com\n",
      "Wrong Email\n"
     ]
    }
   ],
   "source": [
    "import re # import Regex module\n",
    "email_condition=\"^[a-z]+[\\._]?[a-z 0-9]+[@]\\w+[.]\\w{2,3}$\"\n",
    "user_email=input(\"Enter your Email: \")\n",
    "if re.search(email_condition,user_email):\n",
    "    print(\"Right Email\")\n",
    "else:\n",
    "    print(\"Wrong Email\")"
   ]
  },
  {
   "cell_type": "code",
   "execution_count": 2,
   "id": "f2dd38fc",
   "metadata": {},
   "outputs": [
    {
     "name": "stdout",
     "output_type": "stream",
     "text": [
      "Enter your Email: iksf@@gmail.com\n",
      "Wrong Email\n"
     ]
    }
   ],
   "source": [
    "import re # import Regex module\n",
    "email_condition=\"^[a-z]+[\\._]?[a-z 0-9]+[@]\\w+[.]\\w{2,3}$\"\n",
    "user_email=input(\"Enter your Email: \")\n",
    "if re.search(email_condition,user_email):\n",
    "    print(\"Right Email\")\n",
    "else:\n",
    "    print(\"Wrong Email\")"
   ]
  },
  {
   "cell_type": "code",
   "execution_count": 4,
   "id": "d9f76851",
   "metadata": {},
   "outputs": [
    {
     "name": "stdout",
     "output_type": "stream",
     "text": [
      "Enter your Email: oip@gmail_com\n",
      "Wrong Email\n"
     ]
    }
   ],
   "source": [
    "import re # import Regex module\n",
    "email_condition=\"^[a-z]+[\\._]?[a-z 0-9]+[@]\\w+[.]\\w{2,3}$\"\n",
    "user_email=input(\"Enter your Email: \")\n",
    "if re.search(email_condition,user_email):\n",
    "    print(\"Right Email\")\n",
    "else:\n",
    "    print(\"Wrong Email\")"
   ]
  },
  {
   "cell_type": "code",
   "execution_count": 5,
   "id": "1a283ee0",
   "metadata": {},
   "outputs": [
    {
     "name": "stdout",
     "output_type": "stream",
     "text": [
      "Enter your Email: poq89@bubble.com\n",
      "Right Email\n"
     ]
    }
   ],
   "source": [
    "import re # import Regex module\n",
    "email_condition=\"^[a-z]+[\\._]?[a-z 0-9]+[@]\\w+[.]\\w{2,3}$\"\n",
    "user_email=input(\"Enter your Email: \")\n",
    "if re.search(email_condition,user_email):\n",
    "    print(\"Right Email\")\n",
    "else:\n",
    "    print(\"Wrong Email\")"
   ]
  },
  {
   "cell_type": "code",
   "execution_count": null,
   "id": "61beda5a",
   "metadata": {},
   "outputs": [],
   "source": []
  }
 ],
 "metadata": {
  "kernelspec": {
   "display_name": "Python 3 (ipykernel)",
   "language": "python",
   "name": "python3"
  },
  "language_info": {
   "codemirror_mode": {
    "name": "ipython",
    "version": 3
   },
   "file_extension": ".py",
   "mimetype": "text/x-python",
   "name": "python",
   "nbconvert_exporter": "python",
   "pygments_lexer": "ipython3",
   "version": "3.11.5"
  }
 },
 "nbformat": 4,
 "nbformat_minor": 5
}
