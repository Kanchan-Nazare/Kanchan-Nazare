{
 "cells": [
  {
   "cell_type": "code",
   "execution_count": 3,
   "id": "d5bc1403",
   "metadata": {},
   "outputs": [
    {
     "name": "stdout",
     "output_type": "stream",
     "text": [
      "Enter your Email: ws_cube@gmail.com\n",
      "Right Email\n"
     ]
    }
   ],
   "source": [
    "email=input(\"Enter your Email: \") #g@.in,kanchan11nazare@gmail.com\n",
    "k,j,d=0\n",
    "if len(email)>=6:# email should be greater than 6 letters\n",
    "    if email[0].isalpha(): # condition 1: First letter Capital or not\n",
    "        if (\"@\"in email) and (email.count(\"@\")==1): #condition 2:checking for @ symball and its counts \n",
    "            if (email[-4]==\".\")^(email[-3]==\".\"): # \"OR\"= \"^\" operator #condition 3: checking position using -ve indexing\n",
    "                # taking in eigther 4th or 3rd place ,any of the place found it gives true\n",
    "                for i in email: # loop for iterating over for space,alphabets,digit,comma,underscore present or not\n",
    "                    if i==i.isspace(): # for individual check given an variales checking one by one \n",
    "                        k=1\n",
    "                    elif i.isalpha():\n",
    "                        if i==i.upper():#  convert to uppercase\n",
    "                            j=1\n",
    "                    elif i.isdigit():\n",
    "                        continue\n",
    "                    elif i==\"_\" or i==\".\" or i==\"@\":\n",
    "                        continue\n",
    "                    else:\n",
    "                        d=1\n",
    "                \n",
    "                    \n",
    "                            \n",
    "                if k==1 or j==1 or d==1: # any of it founds output will be  \n",
    "                    print(\"Wrong Email 5\")\n",
    "                else:\n",
    "                    print(\"Right Email\")\n",
    "            else:\n",
    "                print(\"Wrong Email 4\")\n",
    "            \n",
    "        else:\n",
    "            print(\"Wrong Email 3\") # if not at mention output will be\n",
    "            \n",
    "    else:\n",
    "        print(\"Wrong Email 2\")# if more than 1 count of @ sumbol then output\n",
    "else:\n",
    "    print(\"Wrong Email 1\") # if condition 1 is true then output is\n",
    "    \n"
   ]
  }
 ],
 "metadata": {
  "kernelspec": {
   "display_name": "Python 3 (ipykernel)",
   "language": "python",
   "name": "python3"
  },
  "language_info": {
   "codemirror_mode": {
    "name": "ipython",
    "version": 3
   },
   "file_extension": ".py",
   "mimetype": "text/x-python",
   "name": "python",
   "nbconvert_exporter": "python",
   "pygments_lexer": "ipython3",
   "version": "3.11.5"
  }
 },
 "nbformat": 4,
 "nbformat_minor": 5
}
